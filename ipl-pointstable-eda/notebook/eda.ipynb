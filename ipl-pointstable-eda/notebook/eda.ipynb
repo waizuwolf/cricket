{
 "cells": [
  {
   "cell_type": "code",
   "execution_count": 2,
   "id": "467ca5b9",
   "metadata": {},
   "outputs": [],
   "source": [
    "from prettytable import PrettyTable\n",
    "from matplotlib import pyplot as plt\n",
    "import numpy as np\n",
    "import statistics\n",
    "from collections import defaultdict"
   ]
  },
  {
   "cell_type": "code",
   "execution_count": 3,
   "id": "fff64ad1",
   "metadata": {},
   "outputs": [],
   "source": [
    "class TeamStat:\n",
    "    def __init__(self, team_code, matches, won, lost, super_over, no_result, nrr, nrr_for, nrr_against, points, league_pos, final_pos):\n",
    "        self.team_code = team_code\n",
    "        self.matches = matches\n",
    "        self.won = won\n",
    "        self.lost = lost\n",
    "        self.super_over = super_over\n",
    "        self.no_result = no_result\n",
    "        self.nrr = nrr\n",
    "        self.nrr_for = nrr_for\n",
    "        self.nrr_against = nrr_against\n",
    "        self.points = points\n",
    "        self.league_pos = league_pos\n",
    "        self.final_pos = final_pos"
   ]
  },
  {
   "cell_type": "code",
   "execution_count": 4,
   "id": "59cc9522",
   "metadata": {},
   "outputs": [],
   "source": [
    "class IplTournament:\n",
    "    def __init__(self, year, edition, team_stats, total_teams):\n",
    "        self.year = year\n",
    "        self.edition = edition\n",
    "        self.team_stats = team_stats\n",
    "        self.total_teams = total_teams"
   ]
  },
  {
   "cell_type": "code",
   "execution_count": 5,
   "id": "a79f54d4",
   "metadata": {},
   "outputs": [],
   "source": [
    "# Constants\n",
    "\n",
    "first_tournament_year = 2008\n",
    "latest_tournament_year= 2022\n",
    "col_team = 0\n",
    "col_matches = 1\n",
    "col_won = 2\n",
    "col_lost = 3\n",
    "col_super_over = 4\n",
    "col_no_result = 5\n",
    "col_nrr = 6\n",
    "col_for = 7\n",
    "col_against = 8\n",
    "col_points = 9\n",
    "col_league_pos = 10\n",
    "col_final_pos = 11"
   ]
  },
  {
   "cell_type": "code",
   "execution_count": 6,
   "id": "bfbde6ae",
   "metadata": {},
   "outputs": [],
   "source": [
    "# Global Data structure\n",
    "\n",
    "team_name_map = dict()\n",
    "ipl_tournaments = []\n",
    "team_performance_map = dict()\n",
    "team_pos_map = dict()\n",
    "team_points_map = dict()\n",
    "team_nrr_map = dict()"
   ]
  },
  {
   "cell_type": "code",
   "execution_count": 7,
   "id": "2683db45",
   "metadata": {},
   "outputs": [],
   "source": [
    "def create_team_name_map():\n",
    "    import csv\n",
    "    with open('../data/teams.csv') as teams_file:\n",
    "        heading = next(teams_file)\n",
    "        teams_file = csv.reader(teams_file)\n",
    "        for row in teams_file:\n",
    "            team_name_map[row[0]] = row[1]\n",
    "    print(\"Total teams: \", len(team_name_map))\n",
    "    print(\"\\nTeam names: \\n\")\n",
    "    print(\"\\n\".join(team_name_map.values()))"
   ]
  },
  {
   "cell_type": "code",
   "execution_count": 8,
   "id": "2178937e",
   "metadata": {},
   "outputs": [
    {
     "name": "stdout",
     "output_type": "stream",
     "text": [
      "Total teams:  15\n",
      "\n",
      "Team names: \n",
      "\n",
      "Rajasthan Royals\n",
      "Punjab Kings\n",
      "Mumbai Indians\n",
      "Chennai Superkings\n",
      "Delhi Capitals / Delhi Daredevils\n",
      "Kolkata Knightriders\n",
      "Sunrisers Hyderabad\n",
      "Deccan Chargers\n",
      "Gujarat Titans\n",
      "Lucknow Supergiants\n",
      "Pune Warriors India\n",
      "Gujarat Lions\n",
      "Royal Challengers Bangalore\n",
      "Rising Pune Supergiants\n",
      "Kochi Tuskers\n"
     ]
    }
   ],
   "source": [
    "create_team_name_map()"
   ]
  },
  {
   "cell_type": "code",
   "execution_count": 9,
   "id": "59728d5d",
   "metadata": {},
   "outputs": [],
   "source": [
    "def populate_ipl_tournamnet_data():\n",
    "    for year in range(first_tournament_year, latest_tournament_year + 1):\n",
    "        filepath = '../data/' + str(year) + '.csv'\n",
    "        with open(filepath) as tournament_file:\n",
    "            heading = next(tournament_file)\n",
    "            tournament_file = csv.reader(tournament_file)\n",
    "            team_stats = []\n",
    "            for row in tournament_file:\n",
    "                team_stat = TeamStat(row[col_team], int(row[col_matches]), int(row[col_won]), int(row[col_lost]), int(row[col_super_over]), int(row[col_no_result]), float(row[col_nrr]), row[col_for], row[col_against], int(row[col_points]), int(row[col_league_pos]), int(row[col_final_pos]))\n",
    "                team_stats.append(team_stat)\n",
    "            tournament = IplTournament(year, year-first_tournament_year+1, team_stats, len(team_stats)) \n",
    "            ipl_tournaments.append(tournament)\n",
    "            \n",
    "def print_yoy_team_matches():\n",
    "    table = PrettyTable(['Year', 'Teams', 'Matches per team'])\n",
    "    for tournament in ipl_tournaments:\n",
    "        table.add_row([tournament.year, tournament.total_teams, tournament.team_stats[0].matches])\n",
    "    \n",
    "    print(\"\\nYear by Year team and matches count\\n\")\n",
    "    print(table)\n",
    "    "
   ]
  },
  {
   "cell_type": "code",
   "execution_count": 10,
   "id": "0970818f",
   "metadata": {},
   "outputs": [
    {
     "ename": "NameError",
     "evalue": "name 'csv' is not defined",
     "output_type": "error",
     "traceback": [
      "\u001b[1;31m---------------------------------------------------------------------------\u001b[0m",
      "\u001b[1;31mNameError\u001b[0m                                 Traceback (most recent call last)",
      "Input \u001b[1;32mIn [10]\u001b[0m, in \u001b[0;36m<cell line: 1>\u001b[1;34m()\u001b[0m\n\u001b[1;32m----> 1\u001b[0m \u001b[43mpopulate_ipl_tournamnet_data\u001b[49m\u001b[43m(\u001b[49m\u001b[43m)\u001b[49m\n\u001b[0;32m      2\u001b[0m print_yoy_team_matches()\n",
      "Input \u001b[1;32mIn [9]\u001b[0m, in \u001b[0;36mpopulate_ipl_tournamnet_data\u001b[1;34m()\u001b[0m\n\u001b[0;32m      4\u001b[0m \u001b[38;5;28;01mwith\u001b[39;00m \u001b[38;5;28mopen\u001b[39m(filepath) \u001b[38;5;28;01mas\u001b[39;00m tournament_file:\n\u001b[0;32m      5\u001b[0m     heading \u001b[38;5;241m=\u001b[39m \u001b[38;5;28mnext\u001b[39m(tournament_file)\n\u001b[1;32m----> 6\u001b[0m     tournament_file \u001b[38;5;241m=\u001b[39m \u001b[43mcsv\u001b[49m\u001b[38;5;241m.\u001b[39mreader(tournament_file)\n\u001b[0;32m      7\u001b[0m     team_stats \u001b[38;5;241m=\u001b[39m []\n\u001b[0;32m      8\u001b[0m     \u001b[38;5;28;01mfor\u001b[39;00m row \u001b[38;5;129;01min\u001b[39;00m tournament_file:\n",
      "\u001b[1;31mNameError\u001b[0m: name 'csv' is not defined"
     ]
    }
   ],
   "source": [
    "populate_ipl_tournamnet_data()\n",
    "print_yoy_team_matches()"
   ]
  },
  {
   "cell_type": "code",
   "execution_count": null,
   "id": "cc155470",
   "metadata": {},
   "outputs": [],
   "source": [
    "# Create a map team_performance_map where the key is team_code and value is a list of stats\n",
    "# the order in the list is team_code, total_seasons, total_matches, won, loss, tie, nr, win_ratio, loss_ratio\n",
    "\n",
    "def create_team_performance_map():\n",
    "    for tournament in ipl_tournaments:\n",
    "        for team_stat in tournament.team_stats:\n",
    "            if team_stat.team_code in team_performance_map:\n",
    "                team_performance = team_performance_map[team_stat.team_code]\n",
    "                team_performance[1] = team_performance[1] + 1\n",
    "                team_performance[2] += team_stat.matches\n",
    "                team_performance[3] += team_stat.won\n",
    "                team_performance[4] += team_stat.lost\n",
    "                team_performance[5] += team_stat.super_over\n",
    "                team_performance[6] += team_stat.no_result\n",
    "            else :\n",
    "                team_performance = [team_stat.team_code, 1, team_stat.matches, team_stat.won, team_stat.lost, team_stat.super_over, team_stat.no_result]\n",
    "                team_performance_map[team_stat.team_code] =  team_performance\n",
    "\n",
    "def print_team_performance():\n",
    "    table = PrettyTable(['Team', 'Seasons', 'Matches', 'Wins', 'Lost', 'Super over', 'No result', 'Win %', 'Lost %'])\n",
    "    team_performance_print_list = []\n",
    "    for team_code in team_performance_map:\n",
    "        team_performance = team_performance_map[team_code]\n",
    "        win_percent =  round(team_performance[3]*100/team_performance[2], 2)\n",
    "        loss_percent = round(team_performance[4]*100/team_performance[2], 2)\n",
    "        team_performance.append(win_percent)\n",
    "        team_performance.append(loss_percent)\n",
    "        team_performance_print_list.append(team_performance)\n",
    "    team_performance_print_list.sort(key = lambda row: (row[2], row[7], -row[8]), reverse = True)\n",
    "    for team_performance_print in team_performance_print_list:\n",
    "        table.add_row(team_performance_print)\n",
    "    print(\"\\nTeam performance\\n\")\n",
    "    print(table)"
   ]
  },
  {
   "cell_type": "code",
   "execution_count": null,
   "id": "f6527c93",
   "metadata": {},
   "outputs": [],
   "source": [
    "create_team_performance_map()\n",
    "print_team_performance()"
   ]
  },
  {
   "cell_type": "markdown",
   "id": "e9577906",
   "metadata": {},
   "source": [
    "### Points table"
   ]
  },
  {
   "cell_type": "code",
   "execution_count": null,
   "id": "7513be69",
   "metadata": {},
   "outputs": [],
   "source": [
    "# Create a map team_pos_map where the key is team_code and value is a list of stats\n",
    "# the order in the list is team_code, total_seasons, total_trophies, total_playoffs, total_finals, playoff ratio, finals ratio\n",
    "\n",
    "def create_team_position_map():\n",
    "    for tournament in ipl_tournaments:\n",
    "        for team_stat in tournament.team_stats:\n",
    "            if team_stat.team_code in team_pos_map:\n",
    "                team_pos = team_pos_map[team_stat.team_code]\n",
    "                team_pos[1] = team_pos[1] + 1\n",
    "                team_pos[2] = team_pos[2] + (0, 1) [team_stat.final_pos == 1]\n",
    "                team_pos[3] = team_pos[3] + (0, 1) [team_stat.league_pos <= 4]\n",
    "                team_pos[4] = team_pos[4] + (0, 1) [team_stat.final_pos <= 2]\n",
    "            else:\n",
    "                team_pos = [team_stat.team_code, 1, (0, 1) [team_stat.final_pos == 1], (0, 1) [team_stat.league_pos <= 4], (0, 1) [team_stat.final_pos <= 2]]\n",
    "                team_pos_map[team_stat.team_code] = team_pos\n",
    "\n",
    "def print_team_position_stat():\n",
    "    table = PrettyTable(['Team', 'Seasons', 'Trophies', 'Playoffs', 'Finals', 'Playoffs %', 'Finals %'])\n",
    "    team_pos_print_list = []\n",
    "    for team_code in team_pos_map:\n",
    "        team_pos = team_pos_map[team_code]\n",
    "        playoff_percent =  round(team_pos[3]*100/team_pos[1], 2)\n",
    "        final_percent = round(team_pos[4]*100/team_pos[1], 2)\n",
    "        team_pos.append(playoff_percent)\n",
    "        team_pos.append(final_percent)\n",
    "        team_pos_print_list.append(team_pos)\n",
    "    team_pos_print_list.sort(key = lambda row: (row[2], row[4], row[3]), reverse = True)\n",
    "    for team_pos_print in team_pos_print_list:\n",
    "        table.add_row(team_pos_print)\n",
    "    print(\"\\nTeam position stat\\n\")\n",
    "    print(table)"
   ]
  },
  {
   "cell_type": "code",
   "execution_count": null,
   "id": "32df3dcc",
   "metadata": {},
   "outputs": [],
   "source": [
    "create_team_position_map()\n",
    "print_team_position_stat()"
   ]
  },
  {
   "cell_type": "markdown",
   "id": "791e79c4",
   "metadata": {},
   "source": [
    "##### Team points each season"
   ]
  },
  {
   "cell_type": "code",
   "execution_count": null,
   "id": "0dbcc036",
   "metadata": {},
   "outputs": [],
   "source": [
    "def create_team_points_map():\n",
    "    for tournament in ipl_tournaments:\n",
    "        year = tournament.year\n",
    "        for team_stat in tournament.team_stats:\n",
    "            if team_stat.team_code in team_points_map:\n",
    "                team_points = team_points_map[team_stat.team_code]\n",
    "                team_points.append((year, team_stat.points))\n",
    "                team_points_map[team_stat.team_code] =  team_points\n",
    "            else:\n",
    "                team_points_map[team_stat.team_code] = [(year, team_stat.points)]"
   ]
  },
  {
   "cell_type": "code",
   "execution_count": null,
   "id": "f47fac19",
   "metadata": {},
   "outputs": [],
   "source": [
    "create_team_points_map()\n",
    "print(team_points_map)"
   ]
  },
  {
   "cell_type": "code",
   "execution_count": null,
   "id": "12d8c5be",
   "metadata": {},
   "outputs": [],
   "source": [
    "def plot_points_yoy_graph():\n",
    "    subplot_rows = 8\n",
    "    subplot_cols = 2\n",
    "    fig_number = 0\n",
    "    # plt.subplots(8, 2, figsize=(20,50))\n",
    "\n",
    "    # plt.tight_layout()\n",
    "    for team_code in team_points_map:\n",
    "        #subplot = axis[int(fig_number/subplot_cols), int (fig_number/subplot_rows)]\n",
    "        plt.figure(figsize=[7, 5])\n",
    "        fig_number = fig_number + 1\n",
    "        team_points = team_points_map[team_code]\n",
    "        x_cord = []\n",
    "        y_cord = []\n",
    "        for point in team_points:\n",
    "            x_cord.append(point[0])\n",
    "            y_cord.append(point[1])\n",
    "\n",
    "        plt.xticks(np.arange(first_tournament_year-1, latest_tournament_year+1, 1))\n",
    "        plt.xticks(rotation=90)\n",
    "        plt.xlim(first_tournament_year-1, latest_tournament_year+1)\n",
    "\n",
    "        plt.ylim(0, 28)\n",
    "        plt.yticks(np.arange(0, 28, 2))\n",
    "\n",
    "        plt.xlabel('Year')\n",
    "        plt.ylabel('Points')\n",
    "        plt.title(team_code)\n",
    "\n",
    "        for x, y in zip(x_cord, y_cord):\n",
    "            plt.text(x, y, '{}'.format(y))\n",
    "        plt.plot(x_cord,y_cord,  marker='.', color='g')\n",
    "        plt.show()"
   ]
  },
  {
   "cell_type": "code",
   "execution_count": null,
   "id": "bfcd1523",
   "metadata": {},
   "outputs": [],
   "source": [
    "plot_points_yoy_graph()"
   ]
  },
  {
   "cell_type": "markdown",
   "id": "0e78db76",
   "metadata": {},
   "source": [
    "### Most competitive year"
   ]
  },
  {
   "cell_type": "code",
   "execution_count": null,
   "id": "35bd2e34",
   "metadata": {},
   "outputs": [],
   "source": [
    "def print_points_table(year):\n",
    "    table = PrettyTable(['Team', 'Points'])\n",
    "    index = year-first_tournament_year\n",
    "    tournament = ipl_tournaments[index]\n",
    "    [(table.add_row([team_stat.team_code, team_stat.points])) for team_stat in tournament.team_stats]\n",
    "    print(table)"
   ]
  },
  {
   "cell_type": "code",
   "execution_count": null,
   "id": "f105a410",
   "metadata": {},
   "outputs": [],
   "source": [
    "def calculate_competition_each_year():\n",
    "    table = PrettyTable(['Year', 'Std deviation in points'])\n",
    "    max_std_dev = 0\n",
    "    min_std_dev = 1000\n",
    "    most_competitive_year = 0\n",
    "    least_competitive_year = 0\n",
    "    for tournament in ipl_tournaments:\n",
    "        points = [ (team_stat.points) for team_stat in tournament.team_stats]\n",
    "        std_dev = statistics.stdev(points)\n",
    "        if std_dev < min_std_dev:\n",
    "            min_std_dev, most_competitive_year = std_dev, tournament.year\n",
    "        if std_dev > max_std_dev:\n",
    "            max_std_dev, least_competitive_year = std_dev, tournament.year\n",
    "        table.add_row([tournament.year, round(std_dev, 2)])\n",
    "    print(table)\n",
    "\n",
    "    print('Most competitive year: ', most_competitive_year)\n",
    "    print_points_table(most_competitive_year)\n",
    "    print('Least competitive year: ', least_competitive_year) \n",
    "    print_points_table(least_competitive_year)"
   ]
  },
  {
   "cell_type": "code",
   "execution_count": null,
   "id": "ea676205",
   "metadata": {},
   "outputs": [],
   "source": [
    "calculate_competition_each_year()"
   ]
  },
  {
   "cell_type": "markdown",
   "id": "a306ab75",
   "metadata": {},
   "source": [
    "### Team misssing due to NRR"
   ]
  },
  {
   "cell_type": "code",
   "execution_count": null,
   "id": "a0b8a52b",
   "metadata": {},
   "outputs": [],
   "source": [
    "def find_unlucky_tables():\n",
    "    unlucky_teams = defaultdict(list)\n",
    "    for tournament in ipl_tournaments:\n",
    "        fourth_team_points = tournament.team_stats[3].points\n",
    "        for i in range(4, tournament.total_teams):\n",
    "            team_stat = tournament.team_stats[i]\n",
    "            if team_stat.points == fourth_team_points:\n",
    "                unlucky_teams[team_stat.team_code].append(tournament.year)\n",
    "            else :\n",
    "                break\n",
    "\n",
    "    # print logic            \n",
    "    table = PrettyTable(['Team', 'Year'])\n",
    "    for team_code in unlucky_teams:\n",
    "        table.add_row([team_code, unlucky_teams[team_code]])\n",
    "    print(table)        "
   ]
  },
  {
   "cell_type": "code",
   "execution_count": null,
   "id": "7ab9f69b",
   "metadata": {},
   "outputs": [],
   "source": [
    "find_unlucky_tables()"
   ]
  },
  {
   "cell_type": "markdown",
   "id": "f99f0f07",
   "metadata": {},
   "source": [
    "### Teams in playoff with negative NRR"
   ]
  },
  {
   "cell_type": "code",
   "execution_count": null,
   "id": "c981a318",
   "metadata": {},
   "outputs": [],
   "source": [
    "def find_playoff_teams_with_negative_nrr():\n",
    "    teams_qualified_with_negative_nrr = defaultdict(list)\n",
    "    min_nrr = 0.0\n",
    "    team_with_min_nrr = ''\n",
    "    year_min_nrr = 0\n",
    "    league_pos_min_nrr = 10\n",
    "    for tournament in ipl_tournaments:\n",
    "        for i in range(0, 4):\n",
    "            team_stat = tournament.team_stats[i]\n",
    "            if team_stat.nrr < 0:\n",
    "                teams_qualified_with_negative_nrr[team_stat.team_code].append(tournament.year)\n",
    "            if team_stat.nrr < min_nrr:\n",
    "                min_nrr = team_stat.nrr\n",
    "                team_with_min_nrr = team_stat.team_code\n",
    "                year_min_nrr = tournament.year\n",
    "                league_pos_min_nrr = team_stat.league_pos\n",
    "\n",
    "\n",
    "    # print logic            \n",
    "    table = PrettyTable(['Team', 'Year'])\n",
    "    for team_code in teams_qualified_with_negative_nrr:\n",
    "        table.add_row([team_code, teams_qualified_with_negative_nrr[team_code]])\n",
    "    print(table)\n",
    "\n",
    "    table = PrettyTable(['Team', 'NRR', 'Year', 'League Pos'])\n",
    "    table.add_row([team_with_min_nrr, min_nrr, year_min_nrr, league_pos_min_nrr])\n",
    "    print(table)"
   ]
  },
  {
   "cell_type": "code",
   "execution_count": null,
   "id": "5c6da9c5",
   "metadata": {},
   "outputs": [],
   "source": [
    "find_playoff_teams_with_negative_nrr()"
   ]
  },
  {
   "cell_type": "code",
   "execution_count": null,
   "id": "db653434",
   "metadata": {},
   "outputs": [],
   "source": [
    "def create_nrr_map():\n",
    "    for tournament in ipl_tournaments:\n",
    "        year = tournament.year\n",
    "        for team_stat in tournament.team_stats:\n",
    "            if team_stat.team_code in team_nrr_map:\n",
    "                team_nrr = team_nrr_map[team_stat.team_code]\n",
    "                team_nrr.append((year, team_stat.nrr))\n",
    "                team_nrr_map[team_stat.team_code] =  team_nrr\n",
    "            else:\n",
    "                team_nrr_map[team_stat.team_code] = [(year, team_stat.nrr)]"
   ]
  },
  {
   "cell_type": "code",
   "execution_count": null,
   "id": "3c385a2f",
   "metadata": {},
   "outputs": [],
   "source": [
    "create_nrr_map()\n",
    "print(team_nrr_map)"
   ]
  },
  {
   "cell_type": "code",
   "execution_count": null,
   "id": "c9975241",
   "metadata": {},
   "outputs": [],
   "source": [
    "def plot_nrr_yoy_graph():\n",
    "    subplot_rows = 8\n",
    "    subplot_cols = 2\n",
    "    fig_number = 0\n",
    "    # plt.subplots(8, 2, figsize=(20,50))\n",
    "\n",
    "    # plt.tight_layout()\n",
    "    for team_code in team_nrr_map:\n",
    "        #subplot = axis[int(fig_number/subplot_cols), int (fig_number/subplot_rows)]\n",
    "        plt.figure(figsize=[15, 8])\n",
    "        fig_number = fig_number + 1\n",
    "        team_nrr = team_nrr_map[team_code]\n",
    "        x_cord = []\n",
    "        y_cord = []\n",
    "        for point in team_nrr:\n",
    "            x_cord.append(point[0])\n",
    "            y_cord.append(point[1])\n",
    "\n",
    "        plt.xticks(np.arange(first_tournament_year-1, latest_tournament_year+1, 1))\n",
    "        plt.xticks(rotation=90)\n",
    "        plt.xlim(first_tournament_year-1, latest_tournament_year+1)\n",
    "\n",
    "        plt.ylim(-2, 2)\n",
    "        plt.yticks(np.arange(-2, 2, 0.2))\n",
    "\n",
    "        plt.xlabel('Year')\n",
    "        plt.ylabel('NRR')\n",
    "        plt.title(team_code)\n",
    "\n",
    "        for x, y in zip(x_cord, y_cord):\n",
    "            plt.text(x, y, '{}'.format(y))\n",
    "        plt.plot(x_cord,y_cord,  marker='.', color='g')\n",
    "        plt.show()"
   ]
  },
  {
   "cell_type": "code",
   "execution_count": null,
   "id": "537c0ade",
   "metadata": {},
   "outputs": [],
   "source": [
    "plot_nrr_yoy_graph()\n",
    "\n",
    "\n",
    "\n",
    "\n",
    "\\\n",
    "\\\n",
    "\\\n",
    "\n",
    "\n",
    "\n"
   ]
  }
 ],
 "metadata": {
  "kernelspec": {
   "display_name": "Python 3 (ipykernel)",
   "language": "python",
   "name": "python3"
  },
  "language_info": {
   "codemirror_mode": {
    "name": "ipython",
    "version": 3
   },
   "file_extension": ".py",
   "mimetype": "text/x-python",
   "name": "python",
   "nbconvert_exporter": "python",
   "pygments_lexer": "ipython3",
   "version": "3.9.12"
  }
 },
 "nbformat": 4,
 "nbformat_minor": 5
}
